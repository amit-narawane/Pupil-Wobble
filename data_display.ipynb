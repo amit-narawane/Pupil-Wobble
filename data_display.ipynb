{
 "cells": [
  {
   "cell_type": "code",
   "execution_count": null,
   "metadata": {},
   "outputs": [],
   "source": [
    "import numpy as np\n",
    "from matplotlib import pyplot as plt"
   ]
  },
  {
   "attachments": {},
   "cell_type": "markdown",
   "metadata": {},
   "source": [
    "### Pupil Value Plots"
   ]
  },
  {
   "cell_type": "code",
   "execution_count": null,
   "metadata": {},
   "outputs": [],
   "source": [
    "# Load pupil coordinate data\n",
    "\n",
    "pupil_vals = np.load('pupil_wobble_data.npy')\n",
    "pupil_vals = np.squeeze(pupil_vals)"
   ]
  },
  {
   "cell_type": "code",
   "execution_count": null,
   "metadata": {},
   "outputs": [],
   "source": [
    "# Plot pupil coordinates color coded by B-scan\n",
    "\n",
    "n_bscans = len(pupil_vals)\n",
    "lim_bound = 1\n",
    "\n",
    "color = iter(plt.cm.turbo(np.linspace(0,1,n_bscans)))\n",
    "\n",
    "plt.figure(figsize=(6,6))\n",
    "plt.grid(True, which='both')\n",
    "\n",
    "for bscan in range(n_bscans):\n",
    "    c = next(color)\n",
    "    plt.plot(pupil_vals[bscan,:,0], pupil_vals[bscan,:,1], color=c)\n",
    "plt.xlim([-lim_bound,lim_bound])\n",
    "plt.ylim([-lim_bound,lim_bound])\n",
    "plt.xlabel('X Position (px)')\n",
    "plt.ylabel('Y Position (px)')"
   ]
  }
 ],
 "metadata": {
  "kernelspec": {
   "display_name": "zemax",
   "language": "python",
   "name": "python3"
  },
  "language_info": {
   "codemirror_mode": {
    "name": "ipython",
    "version": 3
   },
   "file_extension": ".py",
   "mimetype": "text/x-python",
   "name": "python",
   "nbconvert_exporter": "python",
   "pygments_lexer": "ipython3",
   "version": "3.10.12"
  },
  "orig_nbformat": 4
 },
 "nbformat": 4,
 "nbformat_minor": 2
}
